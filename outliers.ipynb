{
 "cells": [
  {
   "cell_type": "code",
   "execution_count": 64,
   "metadata": {},
   "outputs": [
    {
     "name": "stdout",
     "output_type": "stream",
     "text": [
      "outlier- 65 z-score- 2.298245614035088\n",
      "outlier- 62 z-score- 2.035087719298246\n"
     ]
    }
   ],
   "source": [
    "import numpy as np\n",
    "from scipy import stats\n",
    "data_set = [26, 33, 65, 28, 34, 55, 25, 44, 50, 36, 26, 37, 43, 62, 35, 38, 45, 32, 28, 34]\n",
    "#The goal is to find the ouliers of the data set\n",
    "#Underlying normal distribution, 95% of the data falls within the 2 standard deviation aways from the mean\n",
    "#z-scores tells us how many standard deviation a data point is away from the mean\n",
    "z = stats.zscore(data_set)\n",
    "#Outliers will be the values below the 2 standard deviation from the mean and above the 2 standard deviation above the mean\n",
    "for i in range(len(z)):\n",
    "    if( z[i] > 2 or z[i] < -2):\n",
    "        print('outlier-', data_set[i], 'z-score-', z[i])\n",
    "#From the next problem I will practice lambda"
   ]
  },
  {
   "cell_type": "code",
   "execution_count": null,
   "metadata": {},
   "outputs": [],
   "source": []
  }
 ],
 "metadata": {
  "kernelspec": {
   "display_name": "Python 3",
   "language": "python",
   "name": "python3"
  },
  "language_info": {
   "codemirror_mode": {
    "name": "ipython",
    "version": 3
   },
   "file_extension": ".py",
   "mimetype": "text/x-python",
   "name": "python",
   "nbconvert_exporter": "python",
   "pygments_lexer": "ipython3",
   "version": "3.7.1"
  }
 },
 "nbformat": 4,
 "nbformat_minor": 2
}
