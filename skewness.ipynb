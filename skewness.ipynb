{
 "cells": [
  {
   "cell_type": "code",
   "execution_count": 154,
   "metadata": {},
   "outputs": [
    {
     "name": "stdout",
     "output_type": "stream",
     "text": [
      "[8010, 9010, 9020, 10000, 10020]\n",
      "[0, 10, 20, 200, 300, 400, 410, 450, 460, 500, 600, 700, 710, 712, 713, 745, 764, 1000, 1010, 1020, 1030, 1040, 1111, 1234, 1300, 1338, 1670, 1680, 1690, 1635, 1645, 1655, 1665, 1700, 1710, 2000, 2020, 2030, 2020, 2030, 2010, 2050, 2060, 2010, 2030, 2222, 2134, 2020, 2030, 2050, 2050, 3000, 4050, 5000, 6000, 7000]\n",
      "0.025819566495379753\n"
     ]
    },
    {
     "data": {
      "image/png": "[encoded data removed]",
      "text/plain": [
       "<Figure size 432x288 with 1 Axes>"
      ]
     },
     "metadata": {
      "needs_background": "light"
     },
     "output_type": "display_data"
    }
   ],
   "source": [
    "#We have taken a data sample of salaries in a street and our end goal is to find out the good estimate average salary.\n",
    "#We need to check the skewness in the sample and if there is skewness then remove the outliers to reduce the skewness\n",
    "#Removing skewness helps to get accurate results on the data....\n",
    "import matplotlib.pyplot as plt\n",
    "import scipy.stats\n",
    "import numpy as np\n",
    "\n",
    "salary = [0,10, 20, 200, 300, 400, 410, 450, 460, 500, 600, 700, 710, 712, 713, 745, 764, 1000, 1010, 1020, 1030, 1040, 1111, 1234, 1300, 1338, 1670, 1680, 1690, 1635, 1645, 1655, 1665, 1700, 1710,2000, 2020, 2030, 2020, 2030, 2010, 2050, 2060, 2010, 2030, 2222, 2134, 2020, 2030, 2050, 2050, 3000, 4050, 5000, 6000, 7000, 8010, 9010, 9020, 10000, 10020]\n",
    "#Plot the probability normall distribution of the data to visualize the data distribution\n",
    "x_max = 10000\n",
    "x_min = 0\n",
    "\n",
    "u = np.mean(salary)\n",
    "s = np.std(salary)\n",
    "\n",
    "x = salary\n",
    "y = scipy.stats.norm.pdf(x,u,s)\n",
    "\n",
    "plt.plot(x,y, color='coral')\n",
    "plt.grid()\n",
    "\n",
    "plt.xlim(x_min,x_max)\n",
    "plt.xlabel('Salary')\n",
    "plt.ylabel('Probability Density')\n",
    "plt.title\n",
    "plt.show\n",
    "y\n",
    "#Below visualization shows that theorotically the skewness is positive since the right tail streched more. \n",
    "Mean_Before_Removing_Skewness = u\n",
    "Mean_Before_Removing_Skewness\n",
    "#Its the time to calculate the actaul skewness values of the data\n",
    "skewness_before_removing_outliers =scipy.stats.skew(salary)\n",
    "skewness_before_removing_outliers\n",
    "#Let's find out the outliers and then remove to improve the skewness\n",
    "z = scipy.stats.zscore(salary)\n",
    "#Outliers will be the values below the 2 standard deviation from the mean and above the 2 standard deviation above the mean\n",
    "outliers = []\n",
    "for i in range(len(salary)):\n",
    "    if( z[i] > 2 or z[i] < -2):\n",
    "        outliers.append(salary[i])\n",
    "        #print('outlier-', salary[i], 'z-score-', z[i])\n",
    "print(outliers)\n",
    "#Now we know the outliers and we can remove the outliers from the actual sample of data.\n",
    "exp = []\n",
    "for i in salary:\n",
    "    if i not in outliers:\n",
    "        exp.append(i)\n",
    "print(exp)\n",
    "len(exp)\n",
    "\n",
    "#plot the probability density function again to see the strech of the right tail\n",
    "x_max = 10000\n",
    "x_min = 0\n",
    "\n",
    "u = np.mean(exp)\n",
    "s = np.std(exp)\n",
    "\n",
    "x = exp\n",
    "y = scipy.stats.norm.pdf(x,u,s)\n",
    "\n",
    "plt.plot(x,y, color='coral')\n",
    "plt.grid()\n",
    "\n",
    "plt.xlim(x_min,x_max)\n",
    "plt.xlabel('Salary')\n",
    "plt.ylabel('Probability Density')\n",
    "plt.title\n",
    "plt.show\n",
    "y\n",
    "\n",
    "#Let's measure the skewness and will see how the distrbution looks with new data\n",
    "skewness_after_removing_outliers =scipy.stats.skew(exp)\n",
    "skewness_after_removing_outliers\n",
    "skewness_before_removing_outliers\n",
    "result = skewness_after_removing_outliers - skewness_before_removing_outliers\n",
    "print(result)"
   ]
  },
  {
   "cell_type": "code",
   "execution_count": null,
   "metadata": {},
   "outputs": [],
   "source": []
  }
 ],
 "metadata": {
  "kernelspec": {
   "display_name": "Python 3",
   "language": "python",
   "name": "python3"
  },
  "language_info": {
   "codemirror_mode": {
    "name": "ipython",
    "version": 3
   },
   "file_extension": ".py",
   "mimetype": "text/x-python",
   "name": "python",
   "nbconvert_exporter": "python",
   "pygments_lexer": "ipython3",
   "version": "3.7.1"
  }
 },
 "nbformat": 4,
 "nbformat_minor": 2
}
