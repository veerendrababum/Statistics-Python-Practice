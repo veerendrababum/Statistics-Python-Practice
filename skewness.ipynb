{
 "cells": [
  {
   "cell_type": "code",
   "execution_count": 7,
   "metadata": {},
   "outputs": [
    {
     "name": "stdout",
     "output_type": "stream",
     "text": [
      "[8010, 9010, 9020, 10000, 10020]\n",
      "[0, 10, 20, 200, 300, 400, 410, 450, 460, 500, 600, 700, 710, 712, 713, 745, 764, 1000, 1010, 1020, 1030, 1040, 1111, 1234, 1300, 1338, 1670, 1680, 1690, 1635, 1645, 1655, 1665, 1700, 1710, 2000, 2020, 2030, 2020, 2030, 2010, 2050, 2060, 2010, 2030, 2222, 2134, 2020, 2030, 2050, 2050, 3000, 4050, 5000, 6000, 7000]\n",
      "0.025819566495379753\n"
     ]
    },
    {
     "data": {
      "text/plain": "<Figure size 432x288 with 1 Axes>",
      "image/png": "[encoded data removed]"
     },
     "metadata": {
      "needs_background": "light"
     },
     "output_type": "display_data"
    }
   ],
   "source": [
    "#We have taken a data sample of salaries in a street and our end goal is to find out the good estimate average salary.\n",
    "#We need to check the skewness in the sample and if there is skewness then remove the outliers to reduce the skewness\n",
    "#Removing skewness helps to get accurate results on the data....\n",
    "import matplotlib.pyplot as plt\n",
    "import scipy.stats\n",
    "import numpy as np\n",
    "\n",
    "salary = [0,10, 20, 200, 300, 400, 410, 450, 460, 500, 600, 700, 710, 712, 713, 745, 764, 1000, 1010, 1020, 1030, 1040, 1111, 1234, 1300, 1338, 1670, 1680, 1690, 1635, 1645, 1655, 1665, 1700, 1710,2000, 2020, 2030, 2020, 2030, 2010, 2050, 2060, 2010, 2030, 2222, 2134, 2020, 2030, 2050, 2050, 3000, 4050, 5000, 6000, 7000, 8010, 9010, 9020, 10000, 10020]\n",
    "#Plot the probability normall distribution of the data to visualize the data distribution\n",
    "x_max = 10000\n",
    "x_min = 0\n",
    "\n",
    "u = np.mean(salary)\n",
    "s = np.std(salary)\n",
    "\n",
    "x = salary\n",
    "y = scipy.stats.norm.pdf(x,u,s)\n",
    "\n",
    "plt.plot(x,y, color='coral')\n",
    "plt.grid()\n",
    "\n",
    "plt.xlim(x_min,x_max)\n",
    "plt.xlabel('Salary')\n",
    "plt.ylabel('Probability Density')\n",
    "plt.title\n",
    "plt.show\n",
    "y\n",
    "#Below visualization shows that theorotically the skewness is positive since the right tail streched more. \n",
    "Mean_Before_Removing_Skewness = u\n",
    "Mean_Before_Removing_Skewness\n",
    "#Its the time to calculate the actaul skewness values of the data\n",
    "skewness_before_removing_outliers =scipy.stats.skew(salary)\n",
    "skewness_before_removing_outliers\n",
    "#Let's find out the outliers and then remove to improve the skewness\n",
    "z = scipy.stats.zscore(salary)\n",
    "#Outliers will be the values below the 2 standard deviation from the mean and above the 2 standard deviation above the mean\n",
    "outliers = []\n",
    "for i in range(len(salary)):\n",
    "    if( z[i] > 2 or z[i] < -2):\n",
    "        outliers.append(salary[i])\n",
    "        #print('outlier-', salary[i], 'z-score-', z[i])\n",
    "print(outliers)\n",
    "#Now we know the outliers and we can remove the outliers from the actual sample of data.\n",
    "exp = []\n",
    "for i in salary:\n",
    "    if i not in outliers:\n",
    "        exp.append(i)\n",
    "print(exp)\n",
    "len(exp)\n",
    "\n",
    "#plot the probability density function again to see the strech of the right tail\n",
    "x_max = 10000\n",
    "x_min = 0\n",
    "\n",
    "u = np.mean(exp)\n",
    "s = np.std(exp)\n",
    "\n",
    "x = exp\n",
    "y = scipy.stats.norm.pdf(x,u,s)\n",
    "\n",
    "plt.plot(x,y, color='coral')\n",
    "plt.grid()\n",
    "\n",
    "plt.xlim(x_min,x_max)\n",
    "plt.xlabel('Salary')\n",
    "plt.ylabel('Probability Density')\n",
    "plt.title\n",
    "plt.show\n",
    "y\n",
    "\n",
    "#Let's measure the skewness and will see how the distrbution looks with new data\n",
    "skewness_after_removing_outliers =scipy.stats.skew(exp)\n",
    "skewness_after_removing_outliers\n",
    "skewness_before_removing_outliers\n",
    "result = skewness_after_removing_outliers - skewness_before_removing_outliers\n",
    "print(result)"
   ]
  },
  {
   "cell_type": "code",
   "execution_count": 22,
   "metadata": {},
   "outputs": [
    {
     "data": {
      "text/plain": "{'whiskers': [<matplotlib.lines.Line2D at 0x125cee250>,\n  <matplotlib.lines.Line2D at 0x125cbee10>],\n 'caps': [<matplotlib.lines.Line2D at 0x125cbeb50>,\n  <matplotlib.lines.Line2D at 0x125ab8e10>],\n 'boxes': [<matplotlib.lines.Line2D at 0x125ceead0>],\n 'medians': [<matplotlib.lines.Line2D at 0x125bd3150>],\n 'fliers': [<matplotlib.lines.Line2D at 0x125948c50>],\n 'means': []}"
     },
     "execution_count": 22,
     "metadata": {},
     "output_type": "execute_result"
    },
    {
     "data": {
      "text/plain": "<Figure size 432x288 with 1 Axes>",
      "image/png": "[encoded data removed]"
     },
     "metadata": {
      "needs_background": "light"
     },
     "output_type": "display_data"
    }
   ],
   "source": [
    "import matplotlib\n",
    "new_exp = [x for x in salary if x < 8000]\n",
    "removed_points = [x for x in salary if x not in new_exp]\n",
    "matplotlib.pyplot.boxplot(salary)"
   ]
  },
  {
   "cell_type": "code",
   "execution_count": 24,
   "outputs": [
    {
     "name": "stdout",
     "output_type": "stream",
     "text": [
      "61\n",
      "56\n",
      "2.0695202766098704\n",
      "[8010, 9010, 9020, 10000, 10020]\n",
      "[0, 10, 20, 200, 300, 400, 410, 450, 460, 500, 600, 700, 710, 712, 713, 745, 764, 1000, 1010, 1020, 1030, 1040, 1111, 1234, 1300, 1338, 1670, 1680, 1690, 1635, 1645, 1655, 1665, 1700, 1710, 2000, 2020, 2030, 2020, 2030, 2010, 2050, 2060, 2010, 2030, 2222, 2134, 2020, 2030, 2050, 2050, 3000, 4050, 5000, 6000, 7000]\n"
     ]
    }
   ],
   "source": [
    "print(len(salary))\n",
    "print(len(new_exp))\n",
    "print(scipy.stats.skew(new_exp))\n",
    "print(removed_points)\n",
    "print(new_exp)\n"
   ],
   "metadata": {
    "collapsed": false,
    "pycharm": {
     "name": "#%%\n"
    }
   }
  },
  {
   "cell_type": "code",
   "execution_count": 26,
   "outputs": [
    {
     "data": {
      "text/plain": "array([-0.91673048, -0.91263982, -0.90854916, -0.83491727, -0.79401066,\n       -0.75310405, -0.74901339, -0.73265075, -0.72856009, -0.71219744,\n       -0.67129084, -0.63038423, -0.62629357, -0.62547544, -0.62506637,\n       -0.61197626, -0.604204  , -0.50766441, -0.50357375, -0.49948309,\n       -0.49539243, -0.49130176, -0.46225807, -0.41194295, -0.38494459,\n       -0.36940008, -0.23359014, -0.22949948, -0.22540882, -0.24790745,\n       -0.24381679, -0.23972613, -0.23563547, -0.22131816, -0.2172275 ,\n       -0.09859834, -0.09041701, -0.08632635, -0.09041701, -0.08632635,\n       -0.09450767, -0.07814503, -0.07405437, -0.09450767, -0.08632635,\n       -0.00778567, -0.04378348, -0.09041701, -0.08632635, -0.07814503,\n       -0.07814503,  0.31046774,  0.73998711,  1.12859988,  1.53766595,\n        1.94673203,  2.35988876,  2.76895483,  2.77304549,  3.17393024,\n        3.18211156])"
     },
     "execution_count": 26,
     "metadata": {},
     "output_type": "execute_result"
    }
   ],
   "source": [
    "from scipy import stats\n",
    "stats.zscore(salary)\n",
    "\n"
   ],
   "metadata": {
    "collapsed": false,
    "pycharm": {
     "name": "#%%\n"
    }
   }
  },
  {
   "cell_type": "code",
   "execution_count": 30,
   "outputs": [
    {
     "name": "stdout",
     "output_type": "stream",
     "text": [
      "[(1, 6), (2, 7), (3, 8), (4, 9), (5, 10)]\n"
     ]
    }
   ],
   "source": [
    "a = [1,2,3,4,5]\n",
    "b = [6,7,8,9,10]\n",
    "print([(x,y) for x,y in zip(a,b)])"
   ],
   "metadata": {
    "collapsed": false,
    "pycharm": {
     "name": "#%%\n"
    }
   }
  },
  {
   "cell_type": "code",
   "execution_count": 36,
   "outputs": [
    {
     "name": "stdout",
     "output_type": "stream",
     "text": [
      "0 6\n",
      "------\n",
      "1 7\n",
      "------\n",
      "2 8\n",
      "------\n",
      "3 9\n",
      "------\n",
      "4 10\n",
      "------\n"
     ]
    }
   ],
   "source": [
    "for i,j in enumerate(b):\n",
    "    print(i,j)\n",
    "    print('------')\n",
    "\n"
   ],
   "metadata": {
    "collapsed": false,
    "pycharm": {
     "name": "#%%\n"
    }
   }
  },
  {
   "cell_type": "code",
   "execution_count": 32,
   "outputs": [],
   "source": [],
   "metadata": {
    "collapsed": false,
    "pycharm": {
     "name": "#%%\n"
    }
   }
  },
  {
   "cell_type": "code",
   "execution_count": null,
   "outputs": [],
   "source": [
    "\n"
   ],
   "metadata": {
    "collapsed": false,
    "pycharm": {
     "name": "#%%\n"
    }
   }
  }
 ],
 "metadata": {
  "kernelspec": {
   "display_name": "Python 3",
   "language": "python",
   "name": "python3"
  },
  "language_info": {
   "codemirror_mode": {
    "name": "ipython",
    "version": 3
   },
   "file_extension": ".py",
   "mimetype": "text/x-python",
   "name": "python",
   "nbconvert_exporter": "python",
   "pygments_lexer": "ipython3",
   "version": "3.7.1"
  }
 },
 "nbformat": 4,
 "nbformat_minor": 2
}